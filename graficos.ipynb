{
    "cells": [
     {
      "cell_type": "markdown",
      "metadata": {},
      "source": [
       "# Análise e Visualização de Dados do Datalogger Inercial\n",
       "\n",
       "Este notebook carrega o arquivo `dados.csv` gerado pelo PICO DATALOGGER INERCIAL, processa os dados e plota os gráficos de aceleração e velocidade angular ao longo do tempo."
      ]
     },
     {
      "cell_type": "code",
      "execution_count": null,
      "metadata": {},
      "outputs": [],
      "source": [
       "# Célula 1: Importação das bibliotecas necessárias\n",
       "import pandas as pd\n",
       "import numpy as np\n",
       "import matplotlib.pyplot as plt\n",
       "import matplotlib.dates as mdates"
      ]
     },
     {
      "cell_type": "markdown",
      "metadata": {},
      "source": [
       "## Passo 1: Carregar os Dados do Arquivo CSV\n",
       "\n",
       "Certifique-se de que o arquivo `dados.csv` está na mesma pasta que este notebook, ou forneça o caminho completo para o arquivo."
      ]
     },
     {
      "cell_type": "code",
      "execution_count": null,
      "metadata": {},
      "outputs": [],
      "source": [
       "# Célula 2: Leitura do arquivo e criação do DataFrame\n",
       "file_path = 'dados.csv'\n",
       "\n",
       "try:\n",
       "    df = pd.read_csv(file_path)\n",
       "    \n",
       "    # Combina as colunas de Data e Tempo em uma única coluna 'Timestamp' do tipo datetime\n",
       "    df['Timestamp'] = pd.to_datetime(df['Data'] + ' ' + df['Tempo'])\n",
       "    \n",
       "    # Remove as colunas antigas de Data e Tempo, se desejado\n",
       "    df = df.drop(columns=['Data', 'Tempo'])\n",
       "    \n",
       "    # Exibe as primeiras 5 linhas para verificação\n",
       "    print(\"Dados carregados com sucesso!\")\n",
       "    display(df.head())\n",
       "except FileNotFoundError:\n",
       "    print(f\"Erro: O arquivo '{file_path}' não foi encontrado. Verifique o caminho e o nome do arquivo.\")"
      ]
     },
     {
      "cell_type": "markdown",
      "metadata": {},
      "source": [
       "## Passo 2: Converter Dados Brutos para Unidades Físicas\n",
       "\n",
       "O sensor MPU6050 retorna valores inteiros brutos (LSB - Least Significant Bit). Para uma análise correta, precisamos convertê-los para unidades físicas:\n",
       "- **Acelerômetro:** para `g` (aceleração da gravidade).\n",
       "- **Giroscópio:** para `°/s` (graus por segundo).\n",
       "\n",
       "A conversão depende da sensibilidade configurada no sensor. Vamos assumir as configurações padrão mais comuns:\n",
       "- **Sensibilidade do Acelerômetro:** ±2g, que corresponde a um fator de **16384 LSB/g**.\n",
       "- **Sensibilidade do Giroscópio:** ±250 °/s, que corresponde a um fator de **131 LSB/(°/s)**.\n",
       "\n",
       "**Nota:** Se você configurou o sensor de forma diferente no seu código, ajuste os valores de `ACCEL_SENSITIVITY` e `GYRO_SENSITIVITY` na célula abaixo."
      ]
     },
     {
      "cell_type": "code",
      "execution_count": null,
      "metadata": {},
      "outputs": [],
      "source": [
       "# Célula 3: Fatores de conversão e criação de novas colunas\n",
       "ACCEL_SENSITIVITY = 16384.0\n",
       "GYRO_SENSITIVITY = 131.0\n",
       "\n",
       "# Converte as colunas do acelerômetro\n",
       "df['Ax_g'] = df['X_ACLR'] / ACCEL_SENSITIVITY\n",
       "df['Ay_g'] = df['Y_ACLR'] / ACCEL_SENSITIVITY\n",
       "df['Az_g'] = df['z_ACLR'] / ACCEL_SENSITIVITY\n",
       "\n",
       "# Converte as colunas do giroscópio\n",
       "df['Gx_dps'] = df['X_GYRO'] / GYRO_SENSITIVITY\n",
       "df['Gy_dps'] = df['Y_GYRO'] / GYRO_SENSITIVITY\n",
       "df['Gz_dps'] = df['Z_GYRO'] / GYRO_SENSITIVITY\n",
       "\n",
       "print(\"Novas colunas com unidades físicas adicionadas:\")\n",
       "display(df.head())"
      ]
     },
     {
      "cell_type": "markdown",
      "metadata": {},
      "source": [
       "## Passo 3: Visualização dos Dados\n",
       "\n",
       "Agora, vamos plotar os dados convertidos para visualizar o comportamento do sistema ao longo do tempo."
      ]
     },
     {
      "cell_type": "code",
      "execution_count": null,
      "metadata": {},
      "outputs": [],
      "source": [
       "# Célula 4: Plotar os dados do Acelerômetro\n",
       "\n",
       "plt.style.use('seaborn-v0_8-whitegrid') # Define um estilo visual agradável\n",
       "fig, ax = plt.subplots(figsize=(16, 8)) # Cria a figura e os eixos\n",
       "\n",
       "ax.plot(df['Timestamp'], df['Ax_g'], label='Eixo X', color='r')\n",
       "ax.plot(df['Timestamp'], df['Ay_g'], label='Eixo Y', color='g')\n",
       "ax.plot(df['Timestamp'], df['Az_g'], label='Eixo Z', color='b')\n",
       "\n",
       "# Formatação do Gráfico\n",
       "ax.set_title('Dados do Acelerômetro ao Longo do Tempo', fontsize=18)\n",
       "ax.set_xlabel('Tempo', fontsize=12)\n",
       "ax.set_ylabel('Aceleração (g)', fontsize=12)\n",
       "ax.legend(loc='upper right', fontsize=10)\n",
       "ax.grid(True)\n",
       "\n",
       "# Formata o eixo X para exibir a data e hora de forma legível\n",
       "ax.xaxis.set_major_formatter(mdates.DateFormatter('%Y-%m-%d\\n%H:%M:%S'))\n",
       "plt.xticks(rotation=0, ha='center')\n",
       "fig.tight_layout() # Ajusta o layout para evitar sobreposição\n",
       "\n",
       "plt.show()"
      ]
     },
     {
      "cell_type": "code",
      "execution_count": null,
      "metadata": {},
      "outputs": [],
      "source": [
       "# Célula 5: Plotar os dados do Giroscópio\n",
       "\n",
       "fig, ax = plt.subplots(figsize=(16, 8)) # Cria uma nova figura e eixos\n",
       "\n",
       "ax.plot(df['Timestamp'], df['Gx_dps'], label='Eixo X', color='r')\n",
       "ax.plot(df['Timestamp'], df['Gy_dps'], label='Eixo Y', color='g')\n",
       "ax.plot(df['Timestamp'], df['Gz_dps'], label='Eixo Z', color='b')\n",
       "\n",
       "# Formatação do Gráfico\n",
       "ax.set_title('Dados do Giroscópio ao Longo do Tempo', fontsize=18)\n",
       "ax.set_xlabel('Tempo', fontsize=12)\n",
       "ax.set_ylabel('Velocidade Angular (°/s)', fontsize=12)\n",
       "ax.legend(loc='upper right', fontsize=10)\n",
       "ax.grid(True)\n",
       "\n",
       "# Formata o eixo X para exibir a data e hora de forma legível\n",
       "ax.xaxis.set_major_formatter(mdates.DateFormatter('%Y-%m-%d\\n%H:%M:%S'))\n",
       "plt.xticks(rotation=0, ha='center')\n",
       "fig.tight_layout()\n",
       "\n",
       "plt.show()"
      ]
     }
    ],
    "metadata": {
     "kernelspec": {
      "display_name": "Python 3",
      "language": "python",
      "name": "python3"
     },
     "language_info": {
      "codemirror_mode": {
       "name": "ipython",
       "version": 3
      },
      "file_extension": ".py",
      "mimetype": "text/x-python",
      "name": "python",
      "nbconvert_exporter": "python",
      "pygments_lexer": "ipython3",
      "version": "3.10.0"
     }
    },
    "nbformat": 4,
    "nbformat_minor": 4
   }